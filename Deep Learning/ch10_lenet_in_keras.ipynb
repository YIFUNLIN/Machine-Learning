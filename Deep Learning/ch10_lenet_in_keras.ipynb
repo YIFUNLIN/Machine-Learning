{
  "cells": [
    {
      "cell_type": "markdown",
      "metadata": {
        "id": "LCrpJ__5crC_"
      },
      "source": [
        "# Ch10 機器視覺實戰演練：CNN (Convolutional Neural Network)"
      ]
    },
    {
      "cell_type": "markdown",
      "metadata": {
        "id": "v9zImDOecrDG"
      },
      "source": [
        "#### 10.3.1 匯入模組"
      ]
    },
    {
      "cell_type": "code",
      "execution_count": 1,
      "metadata": {
        "id": "8tHsQTg3crDH"
      },
      "outputs": [],
      "source": [
        "from tensorflow.keras.datasets import mnist\n",
        "from tensorflow.keras.models import Sequential\n",
        "from tensorflow.keras.layers import Dense, Dropout\n",
        "from tensorflow.keras.utils import to_categorical\n",
        "from tensorflow.keras.layers import Flatten, Conv2D, MaxPooling2D # new!\n",
        "                           # 將多軸轉成一軸   卷積層   最大池化層 "
      ]
    },
    {
      "cell_type": "markdown",
      "metadata": {
        "id": "JDG4iWaPcrDI"
      },
      "source": [
        "#### 10.3.2 載入資料集並做資料預處理"
      ]
    },
    {
      "cell_type": "code",
      "execution_count": 2,
      "metadata": {
        "colab": {
          "base_uri": "https://localhost:8080/"
        },
        "id": "bSUXg8VScrDI",
        "outputId": "b746f6a0-b93e-48dc-b00d-9209f7986b58"
      },
      "outputs": [
        {
          "output_type": "stream",
          "name": "stdout",
          "text": [
            "Downloading data from https://storage.googleapis.com/tensorflow/tf-keras-datasets/mnist.npz\n",
            "11490434/11490434 [==============================] - 0s 0us/step\n"
          ]
        }
      ],
      "source": [
        "(X_train, y_train), (X_test, y_test) = mnist.load_data()  "
      ]
    },
    {
      "cell_type": "markdown",
      "metadata": {
        "id": "G4wEQzFNod3i"
      },
      "source": [
        "訓練資料要傳遞給Conv2D()時，必須先轉成4軸陣列的形式，分別是(樣本數 * 寬 * 高 * 顏色通道)"
      ]
    },
    {
      "cell_type": "code",
      "execution_count": 3,
      "metadata": {
        "id": "iRqUTGZOcrDK"
      },
      "outputs": [],
      "source": [
        "X_train = X_train.reshape(60000, 28, 28, 1).astype('float32')  #(60000張手寫字,寬=28,高=28,由於MNIST數字為單色影像，所以設為1，若全採則設為3)\n",
        "X_test = X_test.reshape(10000, 28, 28, 1).astype('float32')    # astype() 會將像素質從整數轉為浮點數"
      ]
    },
    {
      "cell_type": "markdown",
      "metadata": {
        "id": "C6hAHqZCod3k"
      },
      "source": [
        "縮小X範圍"
      ]
    },
    {
      "cell_type": "code",
      "execution_count": 4,
      "metadata": {
        "id": "0yXPh5DWcrDK"
      },
      "outputs": [],
      "source": [
        "X_train /= 255    \n",
        "X_test /= 255"
      ]
    },
    {
      "cell_type": "markdown",
      "metadata": {
        "id": "UH1BuZziod3l"
      },
      "source": [
        "將標籤y轉換為one-hot encoding"
      ]
    },
    {
      "cell_type": "code",
      "execution_count": 5,
      "metadata": {
        "id": "lpvOXbakcrDL"
      },
      "outputs": [],
      "source": [
        "n_classes = 10\n",
        "y_train = to_categorical(y_train, n_classes)\n",
        "y_test = to_categorical(y_test, n_classes)"
      ]
    },
    {
      "cell_type": "markdown",
      "metadata": {
        "id": "3rJlLunYcrDL"
      },
      "source": [
        "#### 10.3.3 規劃 CNN 模型的架構"
      ]
    },
    {
      "cell_type": "code",
      "execution_count": 6,
      "metadata": {
        "id": "EgcJ4UDTcrDL"
      },
      "outputs": [],
      "source": [
        "model = Sequential()\n",
        "\n",
        "#第一層隱藏層\n",
        "model.add(Conv2D(32, kernel_size=(3, 3), activation='relu', input_shape=(28, 28, 1)))\n",
        "#    卷積層的濾鏡數=32個  濾鏡尺寸=3*3的眷積核   激活函數用Relu  輸入影像為28*28會得到26*26的特徵圖、步長為1 \n",
        "\n",
        "#第二層隱藏層\n",
        "model.add(Conv2D(64, kernel_size=(3, 3), activation='relu'))  #濾鏡數為64\n",
        "model.add(MaxPooling2D(pool_size=(2, 2)))    #加入 最大池化層 用來繼續減少特徵圖的尺寸 滑動窗口尺寸=2*2，步長預設為2\n",
        "model.add(Dropout(0.25))   #降低模型overfitting\n",
        "model.add(Flatten())   #會把MaxPooling輸出的特徵圖展平為1D陣列，這樣才能把這些像素值傳給\"密集層\"(只接受1D作為輸入)\n",
        "\n",
        "#搭配丟棄法的密集隱藏層\n",
        "model.add(Dense(128, activation='relu'))\n",
        "model.add(Dropout(0.5))\n",
        "\n",
        "#輸出層\n",
        "model.add(Dense(n_classes, activation='softmax'))   #利用softmax換成各類別的機率"
      ]
    },
    {
      "cell_type": "code",
      "execution_count": 7,
      "metadata": {
        "colab": {
          "base_uri": "https://localhost:8080/"
        },
        "id": "tcDNogB-crDM",
        "outputId": "e2167084-4187-4925-e16f-c333bc574f54"
      },
      "outputs": [
        {
          "output_type": "stream",
          "name": "stdout",
          "text": [
            "Model: \"sequential\"\n",
            "_________________________________________________________________\n",
            " Layer (type)                Output Shape              Param #   \n",
            "=================================================================\n",
            " conv2d (Conv2D)             (None, 26, 26, 32)        320       \n",
            "                                                                 \n",
            " conv2d_1 (Conv2D)           (None, 24, 24, 64)        18496     \n",
            "                                                                 \n",
            " max_pooling2d (MaxPooling2D  (None, 12, 12, 64)       0         \n",
            " )                                                               \n",
            "                                                                 \n",
            " dropout (Dropout)           (None, 12, 12, 64)        0         \n",
            "                                                                 \n",
            " flatten (Flatten)           (None, 9216)              0         \n",
            "                                                                 \n",
            " dense (Dense)               (None, 128)               1179776   \n",
            "                                                                 \n",
            " dropout_1 (Dropout)         (None, 128)               0         \n",
            "                                                                 \n",
            " dense_1 (Dense)             (None, 10)                1290      \n",
            "                                                                 \n",
            "=================================================================\n",
            "Total params: 1,199,882\n",
            "Trainable params: 1,199,882\n",
            "Non-trainable params: 0\n",
            "_________________________________________________________________\n"
          ]
        }
      ],
      "source": [
        "model.summary()"
      ]
    },
    {
      "cell_type": "markdown",
      "metadata": {
        "id": "nshunun8crDM"
      },
      "source": [
        "#### 10.3.4 編譯、訓練模型"
      ]
    },
    {
      "cell_type": "code",
      "execution_count": 8,
      "metadata": {
        "id": "bYtYnJ1gcrDM"
      },
      "outputs": [],
      "source": [
        "model.compile(loss='categorical_crossentropy', optimizer='adam', metrics=['accuracy'])"
      ]
    },
    {
      "cell_type": "code",
      "execution_count": 9,
      "metadata": {
        "colab": {
          "base_uri": "https://localhost:8080/"
        },
        "id": "XFo1S4LecrDN",
        "outputId": "8f6c4f5a-ccd3-4e86-e3a6-6d151fc8a16e"
      },
      "outputs": [
        {
          "output_type": "stream",
          "name": "stdout",
          "text": [
            "Epoch 1/10\n",
            "469/469 [==============================] - 17s 10ms/step - loss: 0.2393 - accuracy: 0.9266 - val_loss: 0.0477 - val_accuracy: 0.9848\n",
            "Epoch 2/10\n",
            "469/469 [==============================] - 4s 9ms/step - loss: 0.0840 - accuracy: 0.9751 - val_loss: 0.0353 - val_accuracy: 0.9875\n",
            "Epoch 3/10\n",
            "469/469 [==============================] - 4s 9ms/step - loss: 0.0616 - accuracy: 0.9820 - val_loss: 0.0312 - val_accuracy: 0.9896\n",
            "Epoch 4/10\n",
            "469/469 [==============================] - 4s 9ms/step - loss: 0.0530 - accuracy: 0.9834 - val_loss: 0.0278 - val_accuracy: 0.9905\n",
            "Epoch 5/10\n",
            "469/469 [==============================] - 4s 9ms/step - loss: 0.0436 - accuracy: 0.9864 - val_loss: 0.0319 - val_accuracy: 0.9902\n",
            "Epoch 6/10\n",
            "469/469 [==============================] - 4s 9ms/step - loss: 0.0389 - accuracy: 0.9876 - val_loss: 0.0290 - val_accuracy: 0.9904\n",
            "Epoch 7/10\n",
            "469/469 [==============================] - 4s 9ms/step - loss: 0.0346 - accuracy: 0.9894 - val_loss: 0.0291 - val_accuracy: 0.9909\n",
            "Epoch 8/10\n",
            "469/469 [==============================] - 4s 10ms/step - loss: 0.0320 - accuracy: 0.9900 - val_loss: 0.0273 - val_accuracy: 0.9912\n",
            "Epoch 9/10\n",
            "469/469 [==============================] - 4s 9ms/step - loss: 0.0281 - accuracy: 0.9911 - val_loss: 0.0306 - val_accuracy: 0.9912\n",
            "Epoch 10/10\n",
            "469/469 [==============================] - 4s 9ms/step - loss: 0.0270 - accuracy: 0.9916 - val_loss: 0.0268 - val_accuracy: 0.9918\n"
          ]
        },
        {
          "output_type": "execute_result",
          "data": {
            "text/plain": [
              "<keras.callbacks.History at 0x7f64bb52ec80>"
            ]
          },
          "metadata": {},
          "execution_count": 9
        }
      ],
      "source": [
        "#註：由於神經網路的初始權重參數是隨機設定的, 參雜了隨機性, 因此底下 (或您重跑一次) 的結果不會與書中完全一樣, 但模型的能力是相近的\n",
        "model.fit(X_train, y_train, batch_size=128, epochs=10, verbose=1, validation_data=(X_test, y_test))"
      ]
    }
  ],
  "metadata": {
    "colab": {
      "provenance": []
    },
    "kernelspec": {
      "display_name": "Python 3",
      "language": "python",
      "name": "python3"
    },
    "language_info": {
      "codemirror_mode": {
        "name": "ipython",
        "version": 3
      },
      "file_extension": ".py",
      "mimetype": "text/x-python",
      "name": "python",
      "nbconvert_exporter": "python",
      "pygments_lexer": "ipython3",
      "version": "3.8.10"
    },
    "accelerator": "GPU",
    "gpuClass": "standard"
  },
  "nbformat": 4,
  "nbformat_minor": 0
}